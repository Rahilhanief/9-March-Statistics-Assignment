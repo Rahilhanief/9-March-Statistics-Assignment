{
 "cells": [
  {
   "cell_type": "code",
   "execution_count": 37,
   "id": "c5813b8e-d24f-4c05-88c8-61525e9586cd",
   "metadata": {},
   "outputs": [
    {
     "data": {
      "text/plain": [
       "'The probability mass function (PMF) is used to describe discrete probability distributions.\\nExample :Finding the number of head/tails in coin flipping. Calculating the number of male and female employees in a company.\\n\\nIn contrast, the probability density function (PDF) is applied to describe continuous probability distributions.\\nExample :Probability Density Function Example\\n\\nSay we have a continuous random variable whose probability density function is given by f(x) = x + 2, when 0 < x ≤ 2.\\nWe want to find P(0.5 < X < 1). Then we integrate x + 2 within the limits 0.5 and 1. This gives us 1.375.'"
      ]
     },
     "execution_count": 37,
     "metadata": {},
     "output_type": "execute_result"
    }
   ],
   "source": [
    "## Q No.1 :\n",
    "\"\"\"The probability mass function (PMF) is used to describe discrete probability distributions.\n",
    "Example :Finding the number of head/tails in coin flipping. Calculating the number of male and female employees in a company.\n",
    "\n",
    "In contrast, the probability density function (PDF) is applied to describe continuous probability distributions.\n",
    "Example :Probability Density Function Example\n",
    "\n",
    "Say we have a continuous random variable whose probability density function is given by f(x) = x + 2, when 0 < x ≤ 2.\n",
    "We want to find P(0.5 < X < 1). Then we integrate x + 2 within the limits 0.5 and 1. This gives us 1.375.\"\"\""
   ]
  },
  {
   "cell_type": "code",
   "execution_count": 38,
   "id": "822a0361-e199-4813-8815-2a7109868544",
   "metadata": {},
   "outputs": [
    {
     "data": {
      "text/plain": [
       "'The cumulative distribution function is used to describe the probability distribution of random variables.\\nIt can be used to describe the probability for a discrete, continuous or mixed variable.\\n\\nEXAMPLE :\\nI toss a coin twice. Let X\\n be the number of observed heads. Find the CDF of X\\n.\\n\\nSolution\\nNote that here X∼Binomial(2,12)\\n. The range of X\\n is RX={0,1,2}\\n and its PMF is given by\\nPX(0)=P(X=0)=14,\\nPX(1)=P(X=1)=12,\\nPX(2)=P(X=2)=14.\\nTo find the CDF, we argue as follows. First, note that if x<0\\n, then\\nFX(x)=P(X≤x)=0, for x<0.\\nNext, if x≥2\\n,\\nFX(x)=P(X≤x)=1, for x≥2.\\nNext, if 0≤x<1\\n,\\nFX(x)=P(X≤x)=P(X=0)=14, for 0≤x<1.\\nFinally, if 1≤x<2\\n,\\nFX(x)=P(X≤x)=P(X=0)+P(X=1)=14+12=34, for 1≤x<2.\\n'"
      ]
     },
     "execution_count": 38,
     "metadata": {},
     "output_type": "execute_result"
    }
   ],
   "source": [
    "## Q No.2 :\n",
    "\"\"\"The cumulative distribution function is used to describe the probability distribution of random variables.\n",
    "It can be used to describe the probability for a discrete, continuous or mixed variable.\n",
    "\n",
    "EXAMPLE :\n",
    "I toss a coin twice. Let X\n",
    " be the number of observed heads. Find the CDF of X\n",
    ".\n",
    "\n",
    "Solution\n",
    "Note that here X∼Binomial(2,12)\n",
    ". The range of X\n",
    " is RX={0,1,2}\n",
    " and its PMF is given by\n",
    "PX(0)=P(X=0)=14,\n",
    "PX(1)=P(X=1)=12,\n",
    "PX(2)=P(X=2)=14.\n",
    "To find the CDF, we argue as follows. First, note that if x<0\n",
    ", then\n",
    "FX(x)=P(X≤x)=0, for x<0.\n",
    "Next, if x≥2\n",
    ",\n",
    "FX(x)=P(X≤x)=1, for x≥2.\n",
    "Next, if 0≤x<1\n",
    ",\n",
    "FX(x)=P(X≤x)=P(X=0)=14, for 0≤x<1.\n",
    "Finally, if 1≤x<2\n",
    ",\n",
    "FX(x)=P(X≤x)=P(X=0)+P(X=1)=14+12=34, for 1≤x<2.\n",
    "\"\"\"\n"
   ]
  },
  {
   "cell_type": "code",
   "execution_count": 36,
   "id": "356daee1-f4c6-4535-b113-ee9793937111",
   "metadata": {},
   "outputs": [
    {
     "data": {
      "text/plain": [
       "'\\nLet’s understand the daily life examples of Normal Distribution.\\n\\n1. Height\\nThe height of people is an example of normal distribution. \\n\\n2. Rolling A Dice\\nA fair rolling of dice is also a good example of normal distribution. \\n3. Tossing A Coin\\nFlipping a coin is one of the oldest methods for settling disputes.\\n\\n4. IQ\\nIQ-Scores-normal distribution curve.\\n\\n5. Technical Stock Market\\nStock Market Return-normal distribution.\\n\\nThe histogram is not bell-shaped, so a normal distribution could be used as a model for the variable.\\nThe shape of a normal distribution is determined by the mean and the standard deviation.\\nThe steeper the bell curve, the smaller the standard deviation.\\nIf the examples are spread far apart, the bell curve will be much flatter, meaning the standard deviation is large.\\n'"
      ]
     },
     "execution_count": 36,
     "metadata": {},
     "output_type": "execute_result"
    }
   ],
   "source": [
    "## Q No.3 :\n",
    "\"\"\"\n",
    "Let’s understand the daily life examples of Normal Distribution.\n",
    "\n",
    "1. Height\n",
    "The height of people is an example of normal distribution. \n",
    "\n",
    "2. Rolling A Dice\n",
    "A fair rolling of dice is also a good example of normal distribution. \n",
    "3. Tossing A Coin\n",
    "Flipping a coin is one of the oldest methods for settling disputes.\n",
    "\n",
    "4. IQ\n",
    "IQ-Scores-normal distribution curve.\n",
    "\n",
    "5. Technical Stock Market\n",
    "Stock Market Return-normal distribution.\n",
    "\n",
    "The histogram is not bell-shaped, so a normal distribution could be used as a model for the variable.\n",
    "The shape of a normal distribution is determined by the mean and the standard deviation.\n",
    "The steeper the bell curve, the smaller the standard deviation.\n",
    "If the examples are spread far apart, the bell curve will be much flatter, meaning the standard deviation is large.\n",
    "\"\"\""
   ]
  },
  {
   "cell_type": "code",
   "execution_count": 7,
   "id": "26f0fbe6-1033-4c34-9d6c-d1974bf76cad",
   "metadata": {},
   "outputs": [
    {
     "data": {
      "text/plain": [
       "'\\nThe normal distribution is an important probability distribution in math and statistics because \\nmany continuous data in nature and psychology display this bell-shaped curve when compiled and graphed.\\nCharacteristics that are the sum of many independent processes frequently follow normal distributions.\\nFor example, heights, blood pressure, measurement error, and IQ scores follow the normal distribution.    \\n'"
      ]
     },
     "execution_count": 7,
     "metadata": {},
     "output_type": "execute_result"
    }
   ],
   "source": [
    "## Q No.4 :\n",
    "\"\"\"\n",
    "The normal distribution is an important probability distribution in math and statistics because \n",
    "many continuous data in nature and psychology display this bell-shaped curve when compiled and graphed.\n",
    "Characteristics that are the sum of many independent processes frequently follow normal distributions.\n",
    "For example, heights, blood pressure, measurement error, and IQ scores follow the normal distribution.    \n",
    "\"\"\""
   ]
  },
  {
   "cell_type": "code",
   "execution_count": 35,
   "id": "8842c66e-0bec-4966-9124-feee31248560",
   "metadata": {},
   "outputs": [
    {
     "data": {
      "text/plain": [
       "'\\nThe Bernoulli distribution therefore describes events having exactly two outcomes, which are ubiquitous in real life.\\nSome examples of such events are as follows: a team will win a championship or not, a student will pass or fail an exam,\\nand a rolled dice will either show a 6 or any other number.\\n\\nThe Bernoulli distribution represents the success or failure of a single Bernoulli trial.\\nThe Binomial Distribution represents the number of successes and failures in n independent Bernoulli trials \\nfor some given value of n.\\n'"
      ]
     },
     "execution_count": 35,
     "metadata": {},
     "output_type": "execute_result"
    }
   ],
   "source": [
    "## Q No.5 :\n",
    "\n",
    "\"\"\"\n",
    "The Bernoulli distribution therefore describes events having exactly two outcomes, which are ubiquitous in real life.\n",
    "Some examples of such events are as follows: a team will win a championship or not, a student will pass or fail an exam,\n",
    "and a rolled dice will either show a 6 or any other number.\n",
    "\n",
    "The Bernoulli distribution represents the success or failure of a single Bernoulli trial.\n",
    "The Binomial Distribution represents the number of successes and failures in n independent Bernoulli trials \n",
    "for some given value of n.\n",
    "\"\"\""
   ]
  },
  {
   "cell_type": "code",
   "execution_count": 34,
   "id": "1c8183ad-dbf1-4129-8bb3-eeb31c86ff70",
   "metadata": {},
   "outputs": [],
   "source": [
    "## Q No.6 :\n",
    "#Given :\n",
    "# mean= 50\n",
    "# std= 10\n",
    "# p(x>60) can be calculated by finding the z-score\n",
    "#  z_score =(60-50)/10\n",
    "# z_score=1.0\n",
    "#from z_score table area under curve =.84134 \n",
    "# area=.84134*100 =84.134 %"
   ]
  },
  {
   "cell_type": "code",
   "execution_count": 31,
   "id": "b9a03ffd-bb1c-4225-92b0-301584456fec",
   "metadata": {},
   "outputs": [
    {
     "data": {
      "text/plain": [
       "'In statistics, uniform distribution refers to a type of probability distribution in which all outcomes are equally likely.\\nExample:\\nA deck of cards has within it uniform distributions because the likelihood of drawing a heart, a club, a diamond, \\nor a spade is equally likely.\\n\\nA good example of a discrete uniform distribution would be the possible outcomes of rolling a 6-sided die.\\nThe possible values would be 1, 2, 3, 4, 5, or 6. In this case, each of the six numbers has an equal chance of appearing.\\nTherefore, each time the 6-sided die is thrown, each side has a chance of 1/6.'"
      ]
     },
     "execution_count": 31,
     "metadata": {},
     "output_type": "execute_result"
    }
   ],
   "source": [
    "## Q No.7 :\n",
    "\"\"\"In statistics, uniform distribution refers to a type of probability distribution in which all outcomes are equally likely.\n",
    "Example:\n",
    "A deck of cards has within it uniform distributions because the likelihood of drawing a heart, a club, a diamond, \n",
    "or a spade is equally likely.\n",
    "\n",
    "A good example of a discrete uniform distribution would be the possible outcomes of rolling a 6-sided die.\n",
    "The possible values would be 1, 2, 3, 4, 5, or 6. In this case, each of the six numbers has an equal chance of appearing.\n",
    "Therefore, each time the 6-sided die is thrown, each side has a chance of 1/6.\"\"\""
   ]
  },
  {
   "cell_type": "code",
   "execution_count": 30,
   "id": "9436485b-db37-442a-97d3-824b053c10c8",
   "metadata": {},
   "outputs": [
    {
     "data": {
      "text/plain": [
       "'\\nA z-score is an example of a standardized score.\\nA z-score measures how many standard deviations a data point is from the mean in a distribution.\\nA z-score is important because it tells where your data lies in the data distribution.\\nFor example, if a z-score is 1.5, it is 1.5 standard deviations away from the mean.\\n'"
      ]
     },
     "execution_count": 30,
     "metadata": {},
     "output_type": "execute_result"
    }
   ],
   "source": [
    "## Q No.8 :\n",
    "\"\"\"\n",
    "A z-score is an example of a standardized score.\n",
    "A z-score measures how many standard deviations a data point is from the mean in a distribution.\n",
    "A z-score is important because it tells where your data lies in the data distribution.\n",
    "For example, if a z-score is 1.5, it is 1.5 standard deviations away from the mean.\n",
    "\"\"\""
   ]
  },
  {
   "cell_type": "code",
   "execution_count": 29,
   "id": "a720aa05-5ba5-41c2-b22e-e3e33989ecb2",
   "metadata": {},
   "outputs": [
    {
     "data": {
      "text/plain": [
       "'\\nThe CLT is a statistical theory that states that - if you take a sufficiently large sample size from a population with a \\nfinite level of variance, the mean of all samples from that population will be roughly equal to the population mean.\\n\\nThe CLT has several applications. Look at the places where you can use it.\\n\\nPolitical/election polling is a great example of how you can use CLT.\\nThese polls are used to estimate the number of people who support a specific candidate.\\nYou may have seen these results with confidence intervals on news channels. The CLT aids in this calculation.\\nYou use the CLT in various census fields to calculate various population details, such as family income,\\nelectricity consumption, individual salaries, and so on.\\n'"
      ]
     },
     "execution_count": 29,
     "metadata": {},
     "output_type": "execute_result"
    }
   ],
   "source": [
    "## Q No.9 :\n",
    "\"\"\"\n",
    "The CLT is a statistical theory that states that - if you take a sufficiently large sample size from a population with a \n",
    "finite level of variance, the mean of all samples from that population will be roughly equal to the population mean.\n",
    "\n",
    "The CLT has several applications. Look at the places where you can use it.\n",
    "\n",
    "Political/election polling is a great example of how you can use CLT.\n",
    "These polls are used to estimate the number of people who support a specific candidate.\n",
    "You may have seen these results with confidence intervals on news channels. The CLT aids in this calculation.\n",
    "You use the CLT in various census fields to calculate various population details, such as family income,\n",
    "electricity consumption, individual salaries, and so on.\n",
    "\"\"\""
   ]
  },
  {
   "cell_type": "code",
   "execution_count": 28,
   "id": "96d7b021-e50a-4dcb-b552-64b0c5ac690b",
   "metadata": {},
   "outputs": [
    {
     "data": {
      "text/plain": [
       "'\\nIt is important to understand the assumptions behind CLT:\\n\\n1.The data must adhere to the randomization rule. It needs to be sampled at random.\\n2.The samples should be unrelated to one another. One sample should not impact the others.\\n3.When taking samples without replacement, the sample size should not exceed 10% of the population.\\n4.When the population is symmetric, a sample size of 30 is generally considered reasonable. \\n'"
      ]
     },
     "execution_count": 28,
     "metadata": {},
     "output_type": "execute_result"
    }
   ],
   "source": [
    "## Q No.10 :\n",
    "\"\"\"\n",
    "It is important to understand the assumptions behind CLT:\n",
    "\n",
    "1.The data must adhere to the randomization rule. It needs to be sampled at random.\n",
    "2.The samples should be unrelated to one another. One sample should not impact the others.\n",
    "3.When taking samples without replacement, the sample size should not exceed 10% of the population.\n",
    "4.When the population is symmetric, a sample size of 30 is generally considered reasonable. \n",
    "\"\"\""
   ]
  }
 ],
 "metadata": {
  "kernelspec": {
   "display_name": "Python 3 (ipykernel)",
   "language": "python",
   "name": "python3"
  },
  "language_info": {
   "codemirror_mode": {
    "name": "ipython",
    "version": 3
   },
   "file_extension": ".py",
   "mimetype": "text/x-python",
   "name": "python",
   "nbconvert_exporter": "python",
   "pygments_lexer": "ipython3",
   "version": "3.10.8"
  }
 },
 "nbformat": 4,
 "nbformat_minor": 5
}
